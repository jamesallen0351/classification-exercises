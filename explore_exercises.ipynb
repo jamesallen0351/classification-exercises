{
 "cells": [
  {
   "cell_type": "markdown",
   "id": "ef897646",
   "metadata": {},
   "source": [
    "# explore_exercises.ipynb"
   ]
  },
  {
   "cell_type": "markdown",
   "id": "59bd1981",
   "metadata": {},
   "source": [
    "This is my suggested path forward. You may choose your own adventure for your explore_exercises.ipynb\n",
    "- If you want a more guided exploration setup, solve the exercises below with seaborn.\n",
    "- If you want to get more practice with those explore.py functions, use them w/ the Telco dataset"
   ]
  },
  {
   "cell_type": "markdown",
   "id": "fb523f7e",
   "metadata": {},
   "source": [
    "Exercises\n",
    "Continue in your explore_exercises.ipynb notebook. Use the iris dataset. As always, add, commit, and push your changes.\n",
    "\n",
    "1. Split your data into train, validate, and test samples.\n",
    "\n",
    "2. Create a swarmplot using a melted dataframe of all your numeric variables. The x-axis should be the variable name, the y-axis the measure. Add another dimension using color to represent species. Document takeaways from this visualization.\n",
    "\n",
    "3. Create 4 subplots (2 rows x 2 columns) of scatterplots.\n",
    "\n",
    "sepal_length x sepal_width\n",
    "petal_length x petal_width\n",
    "sepal_area x petal_area\n",
    "sepal_length x petal_length\n",
    "\n",
    "4. What are your takeaways? Write them down :)\n",
    "\n",
    "5. Create a heatmap of each variable layering correlation coefficient on top.\n",
    "\n",
    "6. Create a scatter matrix visualizing the interaction of each variable.\n",
    "\n",
    "7. Is the sepal length significantly different in virginica compared to versicolor? Run a statistical experiment to test this.\n",
    "\n",
    "8. Make sure to include a null hypothesis, alternative hypothesis, results, and summary.\n",
    "\n",
    "9. What is your takeaway from this statistical testing?\n",
    "\n",
    "10. Create any other visualizations and run any other statistical tests you think will be helpful in exploring this data set.\n"
   ]
  },
  {
   "cell_type": "code",
   "execution_count": null,
   "id": "49e208f7",
   "metadata": {},
   "outputs": [],
   "source": []
  }
 ],
 "metadata": {
  "kernelspec": {
   "display_name": "Python 3",
   "language": "python",
   "name": "python3"
  },
  "language_info": {
   "codemirror_mode": {
    "name": "ipython",
    "version": 3
   },
   "file_extension": ".py",
   "mimetype": "text/x-python",
   "name": "python",
   "nbconvert_exporter": "python",
   "pygments_lexer": "ipython3",
   "version": "3.8.8"
  }
 },
 "nbformat": 4,
 "nbformat_minor": 5
}
